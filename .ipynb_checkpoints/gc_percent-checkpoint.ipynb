{
 "cells": [
  {
   "cell_type": "code",
   "execution_count": 2,
   "metadata": {
    "collapsed": false
   },
   "outputs": [
    {
     "name": "stdout",
     "output_type": "stream",
     "text": [
      "Please enter sequence into GC calculator: ATGATCGTACGTAC\n",
      "The sequence you enter is: ATGATCGTACGTAC\n"
     ]
    },
    {
     "data": {
      "text/plain": [
       "42.857142857142854"
      ]
     },
     "execution_count": 2,
     "metadata": {},
     "output_type": "execute_result"
    }
   ],
   "source": [
    "seq_raw = input(\"Please enter sequence into GC calculator: \")\n",
    "\n",
    "#print(\"The sequence you enter is: \" + seq_raw)\n",
    "\n",
    "seq = seq_raw.upper()\n",
    "\n",
    "g_count = seq.count(\"G\")\n",
    "c_count = seq.count(\"C\")\n",
    "\n",
    "gc_count = g_count + c_count\n",
    "\n",
    "seq_len = len(seq)\n",
    "\n",
    "gc_percent = gc_count / seq_len * 100\n",
    "\n",
    "gc_percent"
   ]
  },
  {
   "cell_type": "code",
   "execution_count": null,
   "metadata": {
    "collapsed": true
   },
   "outputs": [],
   "source": []
  }
 ],
 "metadata": {
  "anaconda-cloud": {},
  "kernelspec": {
   "display_name": "Python [Root]",
   "language": "python",
   "name": "Python [Root]"
  },
  "language_info": {
   "codemirror_mode": {
    "name": "ipython",
    "version": 3
   },
   "file_extension": ".py",
   "mimetype": "text/x-python",
   "name": "python",
   "nbconvert_exporter": "python",
   "pygments_lexer": "ipython3",
   "version": "3.5.2"
  }
 },
 "nbformat": 4,
 "nbformat_minor": 2
}
